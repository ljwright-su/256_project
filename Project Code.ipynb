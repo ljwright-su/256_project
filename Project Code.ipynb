{
 "cells": [
  {
   "cell_type": "code",
   "execution_count": 42,
   "metadata": {},
   "outputs": [],
   "source": [
    "import requests\n",
    "import pandas as pd\n",
    "#data from api\n"
   ]
  },
  {
   "cell_type": "code",
   "execution_count": null,
   "metadata": {},
   "outputs": [],
   "source": [
    "\n"
   ]
  },
  {
   "cell_type": "code",
   "execution_count": 53,
   "metadata": {},
   "outputs": [
    {
     "name": "stdout",
     "output_type": "stream",
     "text": [
      "enter the position you are looking for. (ex. G, F, C)F\n",
      "The following are players with the postion of F\n",
      "Carmelo Anthony ----- player id is: 17\n",
      "Omri Casspi ----- player id is: 90\n",
      "Kelly Olynyk ----- player id is: 358\n",
      "James Nunnally ----- player id is: 348\n",
      "Billy Preston ----- player id is: 382\n",
      "Zach Randolph ----- player id is: 388\n",
      "Andrew Bogut ----- player id is: 1593\n",
      "BJ Johnson ----- player id is: 50815\n",
      "James Johnson ----- player id is: 242\n",
      "Stanley Johnson ----- player id is: 243\n",
      "Michael Kidd-Gilchrist ----- player id is: 255\n",
      "George King ----- player id is: 256\n",
      "Maxi Kleber ----- player id is: 257\n",
      "Kevin Knox ----- player id is: 259\n",
      "enter player id you want to know more about or quit17\n",
      "Name: Carmelo Anthony\n",
      "Position: F\n",
      "Team: {'id': 11, 'abbreviation': 'HOU', 'city': 'Houston', 'conference': 'West', 'division': 'Southwest', 'full_name': 'Houston Rockets', 'name': 'Rockets'}\n",
      "enter player id you want to know more about or quit50815\n",
      "Name: BJ Johnson\n",
      "Position: F\n",
      "Team: {'id': 26, 'abbreviation': 'SAC', 'city': 'Sacramento', 'conference': 'West', 'division': 'Pacific', 'full_name': 'Sacramento Kings', 'name': 'Kings'}\n",
      "enter player id you want to know more about or quitquit\n",
      "Thank you for using!\n"
     ]
    }
   ],
   "source": [
    "# This pulls the data from the API \n",
    "\n",
    "players = requests.get(\"https://free-nba.p.rapidapi.com/players?per_page=999\",\n",
    "  headers={\n",
    "    \"X-RapidAPI-Host\": \"free-nba.p.rapidapi.com\",\n",
    "    \"X-RapidAPI-Key\": \"f32dd3eed0mshd27f9a53fa098d7p1ddb81jsn6c1ab269a25e\"\n",
    "  }\n",
    ")\n",
    "\n",
    "# This is where the user inputs the position they are looking for\n",
    "\n",
    "position = input('enter the position you are looking for. (ex. G, F, C)')\n",
    "\n",
    "# This converts the string of players to json\n",
    "\n",
    "player_list = players.json()\n",
    "\n",
    "# This refines the file to include only the data we want\n",
    "\n",
    "refined_list = player_list['data']\n",
    "print('The following are players with the postion of %s' %(position))\n",
    "\n",
    "# This loops through the dictionary to find all the players with inputed position\n",
    "\n",
    "for player in refined_list:\n",
    "    if player['position'] == position:\n",
    "        print(player['first_name'],player['last_name'],'-----','player id is:', player['id'])\n",
    "        \n",
    "# This is an infinite loop that returns more information about a certain player until the use enters quit\n",
    "\n",
    "while True:\n",
    "    player_id = input('enter player id you want to know more about or quit') \n",
    "    if player_id == 'quit':\n",
    "        break\n",
    "    else:\n",
    "        for player in refined_list:\n",
    "            if player['id'] == int(player_id):\n",
    "                print('Name:', player['first_name'], player['last_name'])\n",
    "                print('Position:', player['position'])\n",
    "                print('Team:', player['team'])\n",
    "print('Thank you for using!')\n",
    "\n",
    "            \n",
    "        \n",
    "                \n",
    "                   \n",
    "            \n"
   ]
  },
  {
   "cell_type": "code",
   "execution_count": null,
   "metadata": {},
   "outputs": [],
   "source": []
  },
  {
   "cell_type": "code",
   "execution_count": null,
   "metadata": {},
   "outputs": [],
   "source": []
  },
  {
   "cell_type": "code",
   "execution_count": null,
   "metadata": {},
   "outputs": [],
   "source": []
  },
  {
   "cell_type": "code",
   "execution_count": null,
   "metadata": {},
   "outputs": [],
   "source": []
  },
  {
   "cell_type": "code",
   "execution_count": null,
   "metadata": {},
   "outputs": [],
   "source": []
  },
  {
   "cell_type": "code",
   "execution_count": null,
   "metadata": {},
   "outputs": [],
   "source": []
  }
 ],
 "metadata": {
  "kernelspec": {
   "display_name": "Python 3",
   "language": "python",
   "name": "python3"
  },
  "language_info": {
   "codemirror_mode": {
    "name": "ipython",
    "version": 3
   },
   "file_extension": ".py",
   "mimetype": "text/x-python",
   "name": "python",
   "nbconvert_exporter": "python",
   "pygments_lexer": "ipython3",
   "version": "3.6.6"
  }
 },
 "nbformat": 4,
 "nbformat_minor": 2
}
